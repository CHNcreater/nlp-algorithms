{
 "cells": [
  {
   "cell_type": "code",
   "execution_count": 1,
   "metadata": {},
   "outputs": [
    {
     "name": "stdout",
     "output_type": "stream",
     "text": [
      "词汇表： ['玩具', '爸爸', '讨厌', '挨打', '我', '爱', '喜欢']\n",
      "词汇到索引的字典 {'玩具': 0, '爸爸': 1, '讨厌': 2, '挨打': 3, '我': 4, '爱': 5, '喜欢': 6}\n",
      "索引到词汇的字典 {0: '玩具', 1: '爸爸', 2: '讨厌', 3: '挨打', 4: '我', 5: '爱', 6: '喜欢'}\n",
      "词汇表大小： 7\n"
     ]
    }
   ],
   "source": [
    "sentences = [\"我 喜欢 玩具\",\n",
    "             \"我 爱 爸爸\",\n",
    "             \"我 讨厌 挨打\"]\n",
    "\n",
    "words_list = list(set(\" \".join(sentences).split()))\n",
    "word_to_idx = {word: idx for idx, word in enumerate(words_list)}\n",
    "idx_to_word = {idx: word for idx, word in enumerate(words_list)}\n",
    "voc_size = len(words_list)\n",
    "print(\"词汇表：\", words_list)\n",
    "print(\"词汇到索引的字典\", word_to_idx)\n",
    "print(\"索引到词汇的字典\", idx_to_word)\n",
    "print(\"词汇表大小：\", voc_size)\n"
   ]
  },
  {
   "cell_type": "code",
   "execution_count": 2,
   "metadata": {},
   "outputs": [
    {
     "name": "stdout",
     "output_type": "stream",
     "text": [
      "input_batch: tensor([[4, 2],\n",
      "        [4, 6]])\n",
      "target_batch: tensor([3, 0])\n",
      "input_words: [<generator object <genexpr> at 0x000001393221C040>, <generator object <genexpr> at 0x000001393234B370>]\n",
      "target_batch: tensor([3, 0])\n",
      "target_words: ['挨打', '玩具']\n"
     ]
    }
   ],
   "source": [
    "import torch\n",
    "import random\n",
    "batch_size = 2\n",
    "def make_batch():\n",
    "    input_batch = []\n",
    "    target_batch = []\n",
    "    selected_sentences = random.sample(sentences, batch_size)\n",
    "    for sentence in selected_sentences:\n",
    "        words = sentence.split()\n",
    "        input_data = [word_to_idx[word] for word in words[:-1]]\n",
    "        target = word_to_idx[words[-1]]\n",
    "        input_batch.append(input_data)\n",
    "        target_batch.append(target)\n",
    "    return torch.LongTensor(input_batch), torch.LongTensor(target_batch)\n",
    "\n",
    "input_batch, target_batch = make_batch()\n",
    "print(\"input_batch:\", input_batch)\n",
    "print(\"target_batch:\", target_batch)\n",
    "input_words = []\n",
    "for input_idx in input_batch:\n",
    "    input_words.append(idx_to_word[idx.item()] for idx in input_idx)\n",
    "print(\"input_words:\", input_words)\n",
    "print(\"target_batch:\", target_batch)\n",
    "target_words = [idx_to_word[idx.item()] for idx in target_batch]\n",
    "print(\"target_words:\", target_words)"
   ]
  },
  {
   "cell_type": "code",
   "execution_count": 3,
   "metadata": {},
   "outputs": [
    {
     "name": "stdout",
     "output_type": "stream",
     "text": [
      "NPLM(\n",
      "  (C): Embedding(7, 2)\n",
      "  (lstm): LSTM(2, 2, batch_first=True)\n",
      "  (linear2): Linear(in_features=2, out_features=7, bias=True)\n",
      ")\n"
     ]
    }
   ],
   "source": [
    "import torch.nn as nn\n",
    "class NPLM(nn.Module):\n",
    "    def __init__(self, embedding_size, n_hidden):\n",
    "        super(NPLM, self).__init__()\n",
    "        self.C = nn.Embedding(voc_size, embedding_size)\n",
    "        self.lstm = nn.LSTM(embedding_size, n_hidden, batch_first=True)\n",
    "        self.linear2 = nn.Linear(n_hidden, voc_size)\n",
    "        self.embedding_size = embedding_size\n",
    "    def forward(self, x):\n",
    "        x = self.C(x) # [batch_size, n_step, embedding_size]\n",
    "        lstm_out, _ = self.lstm(x) #[batch_size, n_step, n_hidden]\n",
    "        output = self.linear2(lstm_out[:, -1, :])\n",
    "        return output\n",
    "    \n",
    "model = NPLM(2, 2)\n",
    "print(model)"
   ]
  },
  {
   "cell_type": "code",
   "execution_count": 4,
   "metadata": {},
   "outputs": [
    {
     "name": "stdout",
     "output_type": "stream",
     "text": [
      "Epoch: 0100 cost = 1.363663\n",
      "Epoch: 0200 cost = 1.283936\n",
      "Epoch: 0300 cost = 1.471921\n",
      "Epoch: 0400 cost = 1.239972\n",
      "Epoch: 0500 cost = 1.073280\n",
      "Epoch: 0600 cost = 0.925043\n",
      "Epoch: 0700 cost = 0.835084\n",
      "Epoch: 0800 cost = 0.655810\n",
      "Epoch: 0900 cost = 0.623973\n",
      "Epoch: 1000 cost = 0.771562\n",
      "Epoch: 1100 cost = 0.565291\n",
      "Epoch: 1200 cost = 0.539297\n",
      "Epoch: 1300 cost = 0.652523\n",
      "Epoch: 1400 cost = 0.405914\n",
      "Epoch: 1500 cost = 0.454575\n",
      "Epoch: 1600 cost = 0.329054\n",
      "Epoch: 1700 cost = 0.386473\n",
      "Epoch: 1800 cost = 0.268632\n",
      "Epoch: 1900 cost = 0.373669\n",
      "Epoch: 2000 cost = 0.209972\n",
      "Epoch: 2100 cost = 0.287100\n",
      "Epoch: 2200 cost = 0.223142\n",
      "Epoch: 2300 cost = 0.155192\n",
      "Epoch: 2400 cost = 0.190181\n",
      "Epoch: 2500 cost = 0.168916\n",
      "Epoch: 2600 cost = 0.116808\n",
      "Epoch: 2700 cost = 0.106916\n",
      "Epoch: 2800 cost = 0.116339\n",
      "Epoch: 2900 cost = 0.090637\n",
      "Epoch: 3000 cost = 0.102038\n",
      "Epoch: 3100 cost = 0.094182\n",
      "Epoch: 3200 cost = 0.087145\n",
      "Epoch: 3300 cost = 0.081268\n",
      "Epoch: 3400 cost = 0.062399\n",
      "Epoch: 3500 cost = 0.068544\n",
      "Epoch: 3600 cost = 0.065691\n",
      "Epoch: 3700 cost = 0.061385\n",
      "Epoch: 3800 cost = 0.057697\n",
      "Epoch: 3900 cost = 0.044528\n",
      "Epoch: 4000 cost = 0.050886\n",
      "Epoch: 4100 cost = 0.040081\n",
      "Epoch: 4200 cost = 0.037879\n",
      "Epoch: 4300 cost = 0.042909\n",
      "Epoch: 4400 cost = 0.040424\n",
      "Epoch: 4500 cost = 0.038321\n",
      "Epoch: 4600 cost = 0.036057\n",
      "Epoch: 4700 cost = 0.028759\n",
      "Epoch: 4800 cost = 0.032501\n",
      "Epoch: 4900 cost = 0.030852\n",
      "Epoch: 5000 cost = 0.029235\n"
     ]
    },
    {
     "data": {
      "image/png": "[encoded data removed]",
      "text/plain": [
       "<Figure size 640x480 with 1 Axes>"
      ]
     },
     "metadata": {},
     "output_type": "display_data"
    }
   ],
   "source": [
    "import torch.optim as optim\n",
    "criterion = nn.CrossEntropyLoss()\n",
    "optimizer = optim.Adam(model.parameters(), lr=0.001)\n",
    "losses = []\n",
    "for epoch in range(5000):\n",
    "    input_batch, target_batch = make_batch()\n",
    "    optimizer.zero_grad()\n",
    "    output = model(input_batch)\n",
    "    loss = criterion(output, target_batch)\n",
    "    if (epoch + 1) % 100 == 0:\n",
    "        print(\"Epoch:\", \"%04d\" % (epoch + 1), \"cost =\", \"{:.6f}\".format(loss.item()))\n",
    "        losses.append(loss.item()/batch_size)\n",
    "    loss.backward()\n",
    "    optimizer.step()\n",
    "\n",
    "import matplotlib.pyplot as plt\n",
    "plt.rcParams['font.family'] = ['SimHei']\n",
    "plt.rcParams['font.sans-serif'] = ['SimHei']\n",
    "plt.rcParams['axes.unicode_minus'] = False\n",
    "plt.plot(range(1, 5000//100 + 1), losses)\n",
    "plt.title('LSTM模型的损失函数')\n",
    "plt.xlabel('迭代次数')\n",
    "plt.ylabel('损失值')\n",
    "plt.show()"
   ]
  },
  {
   "cell_type": "code",
   "execution_count": 5,
   "metadata": {},
   "outputs": [
    {
     "name": "stdout",
     "output_type": "stream",
     "text": [
      "input_strs: [['我', '讨厌'], ['我', '喜欢']]\n",
      "predict: tensor([[3],\n",
      "        [0]])\n",
      "predict_words: ['挨打', '玩具']\n"
     ]
    }
   ],
   "source": [
    "input_strs = [['我', '讨厌'],['我', '喜欢']]\n",
    "input_indices = [[word_to_idx[word] for word in input_str] for input_str in input_strs]\n",
    "input_batch = torch.LongTensor(input_indices)\n",
    "predict = model(input_batch)\n",
    "predict = predict.data.max(1, keepdim=True)[1]\n",
    "print(\"input_strs:\", input_strs)\n",
    "print(\"predict:\", predict)\n",
    "predict_words = []\n",
    "for idx in predict:\n",
    "    predict_words.append(idx_to_word[idx.item()])\n",
    "print(\"predict_words:\", predict_words)"
   ]
  }
 ],
 "metadata": {
  "kernelspec": {
   "display_name": ".venv",
   "language": "python",
   "name": "python3"
  },
  "language_info": {
   "codemirror_mode": {
    "name": "ipython",
    "version": 3
   },
   "file_extension": ".py",
   "mimetype": "text/x-python",
   "name": "python",
   "nbconvert_exporter": "python",
   "pygments_lexer": "ipython3",
   "version": "3.13.2"
  }
 },
 "nbformat": 4,
 "nbformat_minor": 2
}
