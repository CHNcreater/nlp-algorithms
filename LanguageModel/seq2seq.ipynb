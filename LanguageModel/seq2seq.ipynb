{
 "cells": [
  {
   "cell_type": "code",
   "execution_count": 7,
   "metadata": {},
   "outputs": [
    {
     "name": "stdout",
     "output_type": "stream",
     "text": [
      "The count of sentence:  4\n",
      "Chinese vocabulary size:  15\n",
      "English vocabulary size:  17\n",
      "Chinese word to idx dictionary:  {'复杂': 0, '语言': 1, '很': 2, '非常': 3, '学习': 4, '世界': 5, '改变': 6, '自然': 7, '神经网络': 8, '强大': 9, '深度学习': 10, '人工智能': 11, '爱': 12, '处理': 13, '我': 14}\n",
      "English word to idx dictionary:  {'AI': 0, 'love': 1, 'I': 2, 'complex': 3, 'so': 4, '<eos>': 5, '<sos>': 6, 'powerful': 7, 'is': 8, 'Neural-Nets': 9, 'DL': 10, 'studying': 11, 'NLP': 12, 'the': 13, 'world': 14, 'are': 15, 'changed': 16}\n"
     ]
    }
   ],
   "source": [
    "sentences = [['我 爱 学习 人工智能', '<sos> I love studying AI', 'I love studying AI <eos>'],\n",
    "             ['深度学习 改变 世界', '<sos> DL changed the world', 'DL changed the world <eos>'],\n",
    "             ['自然 语言 处理 很 强大', '<sos> NLP is so powerful', 'NLP is so powerful <eos>'],\n",
    "             ['神经网络 非常 复杂', '<sos> Neural-Nets are complex', 'Neural-Nets are complex <eos>']\n",
    "             ]\n",
    "word_list_cn, word_list_en = [], []\n",
    "for s in sentences:\n",
    "    word_list_cn.extend(s[0].split())\n",
    "    word_list_en.extend(s[1].split())\n",
    "    word_list_en.extend(s[2].split())\n",
    "\n",
    "word_list_cn = list(set(word_list_cn))\n",
    "word_list_en = list(set(word_list_en))\n",
    "\n",
    "word2idx_cn = {word: idx for idx, word in enumerate(word_list_cn)}\n",
    "word2idx_en = {word: idx for idx, word in enumerate(word_list_en)}\n",
    "\n",
    "idx2word_cn = {idx: word for idx, word in enumerate(word_list_cn)}\n",
    "idx2word_en = {idx: word for idx, word in enumerate(word_list_en)}\n",
    "\n",
    "voc_size_cn = len(word_list_cn)\n",
    "voc_size_en = len(word_list_en)\n",
    "print('The count of sentence: ', len(sentences))\n",
    "print('Chinese vocabulary size: ', voc_size_cn)\n",
    "print('English vocabulary size: ', voc_size_en)\n",
    "print('Chinese word to idx dictionary: ', word2idx_cn)\n",
    "print('English word to idx dictionary: ', word2idx_en)"
   ]
  },
  {
   "cell_type": "code",
   "execution_count": 8,
   "metadata": {},
   "outputs": [
    {
     "name": "stdout",
     "output_type": "stream",
     "text": [
      "原始句子： ['自然 语言 处理 很 强大', '<sos> NLP is so powerful', 'NLP is so powerful <eos>']\n",
      "编码器输入张量形状： torch.Size([1, 5])\n",
      "解码器输入张量形状： torch.Size([1, 5])\n",
      "目标张量的形状： torch.Size([1, 5])\n",
      "编码器输入张量： tensor([[ 7,  1, 13,  2,  9]])\n",
      "解码器输入张量： tensor([[ 6, 12,  8,  4,  7]])\n",
      "目标张量： tensor([[12,  8,  4,  7,  5]])\n"
     ]
    }
   ],
   "source": [
    "import numpy as np\n",
    "import torch\n",
    "import random\n",
    "\n",
    "def make_data(sentences):\n",
    "    random_sentence = random.choice(sentences)\n",
    "    encoder_input = np.array([[word2idx_cn[word] for word in random_sentence[0].split()]])\n",
    "    decoder_input = np.array([[word2idx_en[word] for word in random_sentence[1].split()]])\n",
    "    target = np.array([[word2idx_en[word] for word in random_sentence[2].split()]])\n",
    "    encoder_input = torch.LongTensor(encoder_input)\n",
    "    decoder_input = torch.LongTensor(decoder_input)\n",
    "    target = torch.LongTensor(target)\n",
    "    return encoder_input, decoder_input, target\n",
    "\n",
    "encoder_input, decoder_input, target = make_data(sentences)\n",
    "for s in sentences:\n",
    "    if all([word2idx_cn[w] in encoder_input[0] for w in s[0].split()]):\n",
    "        original_sentence = s\n",
    "        break\n",
    "print(\"原始句子：\", original_sentence)\n",
    "print(\"编码器输入张量形状：\", encoder_input.shape)\n",
    "print(\"解码器输入张量形状：\", decoder_input.shape)\n",
    "print(\"目标张量的形状：\", target.shape)\n",
    "print(\"编码器输入张量：\", encoder_input)\n",
    "print(\"解码器输入张量：\", decoder_input)\n",
    "print(\"目标张量：\", target)"
   ]
  },
  {
   "cell_type": "code",
   "execution_count": 9,
   "metadata": {},
   "outputs": [
    {
     "name": "stdout",
     "output_type": "stream",
     "text": [
      "Encoder architecture:  Encoder(\n",
      "  (embedding): Embedding(15, 128)\n",
      "  (rnn): RNN(128, 128, batch_first=True)\n",
      ")\n",
      "Decoder architecture:  Decoder(\n",
      "  (embedding): Embedding(17, 128)\n",
      "  (rnn): RNN(128, 128, batch_first=True)\n",
      "  (out): Linear(in_features=128, out_features=17, bias=True)\n",
      ")\n"
     ]
    }
   ],
   "source": [
    "import torch.nn as nn\n",
    "class Encoder(nn.Module):\n",
    "    def __init__(self, input_size, hidden_size):\n",
    "        super(Encoder, self).__init__()\n",
    "        self.hidden_size = hidden_size\n",
    "        self.embedding = nn.Embedding(input_size, hidden_size)\n",
    "        self.rnn = nn.RNN(hidden_size, hidden_size, batch_first=True)\n",
    "        # self.rnn = nn.RNN(hidden_size, hidden_size, batch_first=True, bidirectional=True)\n",
    "    \n",
    "    def forward(self, inputs, hidden):\n",
    "        embedded = self.embedding(inputs)\n",
    "        output, hidden = self.rnn(embedded)\n",
    "        return output, hidden\n",
    "    \n",
    "class Decoder(nn.Module):\n",
    "    def __init__(self, output_size, hidden_size):\n",
    "        super(Decoder, self).__init__()\n",
    "        self.hidden_size = hidden_size\n",
    "        self.embedding = nn.Embedding(output_size, hidden_size)\n",
    "        self.rnn = nn.RNN(hidden_size, hidden_size, batch_first=True)\n",
    "        # self.rnn = nn.RNN(hidden_size, hidden_size, batch_first=True, bidirectional=True)\n",
    "        self.out = nn.Linear(hidden_size, output_size)\n",
    "        # self.out = nn.Linear(2*hidden_size, output_size)\n",
    "\n",
    "    def forward(self, inputs, hidden):\n",
    "        embedded = self.embedding(inputs)\n",
    "        output, hidden = self.rnn(embedded, hidden)\n",
    "        output = self.out(output)\n",
    "        return output, hidden\n",
    "\n",
    "n_hidden = 128\n",
    "encoder = Encoder(voc_size_cn, n_hidden)\n",
    "decoder = Decoder(voc_size_en, n_hidden)\n",
    "print(\"Encoder architecture: \", encoder)\n",
    "print(\"Decoder architecture: \", decoder)\n",
    "\n"
   ]
  },
  {
   "cell_type": "code",
   "execution_count": 10,
   "metadata": {},
   "outputs": [
    {
     "name": "stdout",
     "output_type": "stream",
     "text": [
      "S2S模型结构： Seq2Seq(\n",
      "  (encoder): Encoder(\n",
      "    (embedding): Embedding(15, 128)\n",
      "    (rnn): RNN(128, 128, batch_first=True)\n",
      "  )\n",
      "  (decoder): Decoder(\n",
      "    (embedding): Embedding(17, 128)\n",
      "    (rnn): RNN(128, 128, batch_first=True)\n",
      "    (out): Linear(in_features=128, out_features=17, bias=True)\n",
      "  )\n",
      ")\n"
     ]
    }
   ],
   "source": [
    "class Seq2Seq(nn.Module):\n",
    "    def __init__(self, encoder, decoder):\n",
    "        super(Seq2Seq, self).__init__()\n",
    "        self.encoder = encoder\n",
    "        self.decoder = decoder\n",
    "    \n",
    "    def forward(self, enc_input, hidden, dec_input):\n",
    "        encoder_output, encoder_hidden = self.encoder(enc_input, hidden)\n",
    "        decoder_hidden = encoder_hidden\n",
    "        decoder_output, _ = self.decoder(dec_input, decoder_hidden)\n",
    "        return decoder_output\n",
    "model = Seq2Seq(encoder, decoder)\n",
    "print(\"S2S模型结构：\", model)"
   ]
  },
  {
   "cell_type": "code",
   "execution_count": 11,
   "metadata": {},
   "outputs": [
    {
     "name": "stdout",
     "output_type": "stream",
     "text": [
      "Epoch: 0040 cost = 0.269921\n",
      "Epoch: 0080 cost = 0.044895\n",
      "Epoch: 0120 cost = 0.030047\n",
      "Epoch: 0160 cost = 0.021747\n",
      "Epoch: 0200 cost = 0.016081\n",
      "Epoch: 0240 cost = 0.010127\n",
      "Epoch: 0280 cost = 0.008162\n",
      "Epoch: 0320 cost = 0.006957\n",
      "Epoch: 0360 cost = 0.005876\n",
      "Epoch: 0400 cost = 0.004937\n"
     ]
    },
    {
     "data": {
      "image/png": "[encoded data removed]",
      "text/plain": [
       "<Figure size 640x480 with 1 Axes>"
      ]
     },
     "metadata": {},
     "output_type": "display_data"
    }
   ],
   "source": [
    "def train_seq2seq(model, criterion, optimizer, epochs):\n",
    "    losses = []\n",
    "    for epoch in range(epochs):\n",
    "        encoder_input, decoder_input, target = make_data(sentences)\n",
    "        hidden = torch.zeros(1, encoder_input.size(0), n_hidden)\n",
    "        optimizer.zero_grad()\n",
    "        output = model(encoder_input, hidden, decoder_input)\n",
    "        loss = criterion(output.view(-1, voc_size_en), target.view(-1))\n",
    "        if (epoch+1) % 40 == 0:\n",
    "            print(f\"Epoch: {epoch + 1:04d} cost = {loss:.6f}\")\n",
    "            losses.append(loss.item())\n",
    "        loss.backward()\n",
    "        optimizer.step()\n",
    "\n",
    "    import matplotlib.pyplot as plt\n",
    "    plt.rcParams['font.family'] = ['SimHei']\n",
    "    plt.rcParams['font.sans-serif'] = ['SimHei']\n",
    "    plt.rcParams['axes.unicode_minus'] = False\n",
    "    plt.plot(range(1, 400//40 + 1), losses)\n",
    "    plt.title('Seq2Seq模型的损失函数')\n",
    "    plt.xlabel('迭代次数')\n",
    "    plt.ylabel('损失值')\n",
    "    plt.show()\n",
    "\n",
    "epochs = 400\n",
    "criterion = nn.CrossEntropyLoss()\n",
    "optimizer = torch.optim.Adam(model.parameters(), lr=0.001)\n",
    "train_seq2seq(model, criterion, optimizer, epochs)\n"
   ]
  },
  {
   "cell_type": "code",
   "execution_count": 12,
   "metadata": {},
   "outputs": [
    {
     "name": "stdout",
     "output_type": "stream",
     "text": [
      "我 爱 学习 人工智能 -> ['I', 'love', 'studying', 'AI']\n",
      "自然 语言 处理 很 强大 -> ['NLP', 'is', 'so', 'Neural-Nets', '<eos>']\n"
     ]
    }
   ],
   "source": [
    "def test_seq2seq(model, source_sentence):\n",
    "    encoder_input = np.array([[word2idx_cn[n] for n in source_sentence.split()]])\n",
    "    decoder_input = np.array([word2idx_en['<sos>']] + [word2idx_en['<eos>']]*(len(encoder_input[0])-1))\n",
    "    encoder_input = torch.LongTensor(encoder_input)\n",
    "    decoder_input = torch.LongTensor(decoder_input).unsqueeze(0)\n",
    "    hidden = torch.zeros(1, encoder_input.size(0), n_hidden)\n",
    "    predict = model(encoder_input, hidden, decoder_input)\n",
    "    predict = predict.max(2, keepdim=True)[1]\n",
    "    print(source_sentence, \"->\", [idx2word_en[n.item()] for n in predict.squeeze()])\n",
    "\n",
    "test_seq2seq(model, '我 爱 学习 人工智能')\n",
    "test_seq2seq(model, '自然 语言 处理 很 强大')"
   ]
  }
 ],
 "metadata": {
  "kernelspec": {
   "display_name": ".venv",
   "language": "python",
   "name": "python3"
  },
  "language_info": {
   "codemirror_mode": {
    "name": "ipython",
    "version": 3
   },
   "file_extension": ".py",
   "mimetype": "text/x-python",
   "name": "python",
   "nbconvert_exporter": "python",
   "pygments_lexer": "ipython3",
   "version": "3.13.2"
  }
 },
 "nbformat": 4,
 "nbformat_minor": 2
}
