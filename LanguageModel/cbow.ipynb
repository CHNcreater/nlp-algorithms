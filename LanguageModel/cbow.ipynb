{
 "cells": [
  {
   "cell_type": "code",
   "execution_count": 1,
   "metadata": {},
   "outputs": [
    {
     "name": "stdout",
     "output_type": "stream",
     "text": [
      "词汇表： ['Niuzong', 'Mazong', 'Xiaobing', 'Kage', 'Teacher', 'Boss', 'Xiaoxue', 'Student', 'is']\n",
      "词汇到索引的字典 {'Niuzong': 0, 'Mazong': 1, 'Xiaobing': 2, 'Kage': 3, 'Teacher': 4, 'Boss': 5, 'Xiaoxue': 6, 'Student': 7, 'is': 8}\n",
      "索引到词汇的字典 {0: 'Niuzong', 1: 'Mazong', 2: 'Xiaobing', 3: 'Kage', 4: 'Teacher', 5: 'Boss', 6: 'Xiaoxue', 7: 'Student', 8: 'is'}\n",
      "词汇表大小： 9\n"
     ]
    }
   ],
   "source": [
    "sentences = [\"Kage is Teacher\", \"Mazong is Boss\", \n",
    "             \"Niuzong is Boss\", \"Xiaobing is Student\",\n",
    "             \"Xiaoxue is Student\"]\n",
    "words = ' '.join(sentences).split()\n",
    "word_list = list(set(words))\n",
    "word_to_idx = {word: idx for idx, word in enumerate(word_list)}\n",
    "idx_to_word = {idx: word for idx, word in enumerate(word_list)}\n",
    "voc_size = len(word_list)\n",
    "print(\"词汇表：\", word_list)\n",
    "print(\"词汇到索引的字典\", word_to_idx)\n",
    "print(\"索引到词汇的字典\", idx_to_word)\n",
    "print(\"词汇表大小：\", voc_size)"
   ]
  },
  {
   "cell_type": "code",
   "execution_count": 3,
   "metadata": {},
   "outputs": [
    {
     "name": "stdout",
     "output_type": "stream",
     "text": [
      "cbow_data [('Teacher', ['Kage', 'is']), ('Boss', ['Mazong', 'is']), ('Boss', ['Niuzong', 'is']), ('Student', ['Xiaobing', 'is']), ('Student', ['Xiaoxue', 'is'])]\n"
     ]
    }
   ],
   "source": [
    "#生成cbow训练样本\n",
    "def create_cbow_dataset(sentences, window_size=2):\n",
    "    data = []\n",
    "    for sentence in sentences:\n",
    "        sentence = sentence.split()\n",
    "        for idx, word in enumerate(sentence):\n",
    "            context_words = sentence[max(idx-window_size, 0):idx] + sentence[idx+1: min(idx+window_size, len(sentence))]\n",
    "        data.append((word, context_words))\n",
    "    return data\n",
    "cbow_data = create_cbow_dataset(sentences)\n",
    "print(\"cbow_data\", cbow_data)"
   ]
  },
  {
   "cell_type": "code",
   "execution_count": 6,
   "metadata": {},
   "outputs": [
    {
     "name": "stdout",
     "output_type": "stream",
     "text": [
      "word_example Teacher\n",
      "one_hot_encoding tensor([0., 0., 0., 0., 1., 0., 0., 0., 0.])\n",
      "CBOW data: [(tensor([0., 0., 0., 1., 0., 0., 0., 0., 0.]), 4), (tensor([0., 0., 0., 0., 0., 0., 0., 0., 1.]), 4), (tensor([0., 1., 0., 0., 0., 0., 0., 0., 0.]), 5), (tensor([0., 0., 0., 0., 0., 0., 0., 0., 1.]), 5), (tensor([1., 0., 0., 0., 0., 0., 0., 0., 0.]), 5), (tensor([0., 0., 0., 0., 0., 0., 0., 0., 1.]), 5)]\n"
     ]
    }
   ],
   "source": [
    "import torch\n",
    "def one_hot_encoding(word, word_to_idx):\n",
    "    tensor = torch.zeros(voc_size)\n",
    "    tensor[word_to_idx[word]] = 1\n",
    "    return tensor\n",
    "word_example=\"Teacher\"\n",
    "print(\"word_example\", word_example)\n",
    "print(\"one_hot_encoding\", one_hot_encoding(word_example, word_to_idx))\n",
    "print(\"CBOW data:\", [(one_hot_encoding(c, word_to_idx), word_to_idx[target]) \n",
    "                          for target, context in cbow_data[:3]\n",
    "                          for c in context])"
   ]
  },
  {
   "cell_type": "code",
   "execution_count": 7,
   "metadata": {},
   "outputs": [
    {
     "name": "stdout",
     "output_type": "stream",
     "text": [
      "CBOW(\n",
      "  (input_to_hidden): Linear(in_features=9, out_features=5, bias=False)\n",
      "  (hidden_to_output): Linear(in_features=5, out_features=9, bias=False)\n",
      ")\n"
     ]
    }
   ],
   "source": [
    "#define cbow class\n",
    "import torch.nn as nn\n",
    "class CBOW(nn.Module):\n",
    "    def __init__(self, voc_size, embedding_size):\n",
    "        super(CBOW, self).__init__()\n",
    "        self.input_to_hidden = nn.Linear(voc_size, embedding_size, bias=False)\n",
    "        self.hidden_to_output = nn.Linear(embedding_size, voc_size, bias=False)\n",
    "    def forward(self, x):\n",
    "        embedding = self.input_to_hidden(x)\n",
    "        hidden = torch.mean(embedding, dim=0)\n",
    "        output = self.hidden_to_output(hidden.unsqueeze(0))\n",
    "        return output\n",
    "embedding_size = 5\n",
    "model = CBOW(voc_size, embedding_size)\n",
    "print(model)"
   ]
  },
  {
   "cell_type": "code",
   "execution_count": 12,
   "metadata": {},
   "outputs": [
    {
     "name": "stdout",
     "output_type": "stream",
     "text": [
      "Epoch: 100/1000, Loss: 0.0015\n",
      "Epoch: 200/1000, Loss: 0.0006\n",
      "Epoch: 300/1000, Loss: 0.0003\n",
      "Epoch: 400/1000, Loss: 0.0002\n",
      "Epoch: 500/1000, Loss: 0.0001\n",
      "Epoch: 600/1000, Loss: 0.0001\n",
      "Epoch: 700/1000, Loss: 0.0001\n",
      "Epoch: 800/1000, Loss: 0.0000\n",
      "Epoch: 900/1000, Loss: 0.0000\n",
      "Epoch: 1000/1000, Loss: 0.0000\n"
     ]
    },
    {
     "data": {
      "image/png": "[encoded data removed]",
      "text/plain": [
       "<Figure size 640x480 with 1 Axes>"
      ]
     },
     "metadata": {},
     "output_type": "display_data"
    }
   ],
   "source": [
    "#训练CBOW模型\n",
    "learning_rate = 0.001\n",
    "epochs = 1000\n",
    "criterion = nn.CrossEntropyLoss()\n",
    "import torch.optim as optim\n",
    "optimizer = optim.Adam(model.parameters(), lr=learning_rate)\n",
    "losses = []\n",
    "for epoch in range(epochs):\n",
    "    total_loss = 0\n",
    "    for target, context in cbow_data:\n",
    "        model.zero_grad()\n",
    "        X = torch.stack([one_hot_encoding(c, word_to_idx) for c in context])\n",
    "        y_true = torch.tensor([word_to_idx[target]])\n",
    "        y_pred = model(X)\n",
    "        loss = criterion(y_pred, y_true)\n",
    "        optimizer.zero_grad()\n",
    "        loss.backward()\n",
    "        optimizer.step()\n",
    "        total_loss += loss.item()\n",
    "    if (epoch+1) % 100 == 0:\n",
    "        print(f'Epoch: {epoch+1}/{epochs}, Loss: {total_loss/len(cbow_data):.4f}')\n",
    "        losses.append(total_loss/len(cbow_data))\n",
    "import matplotlib.pyplot as plt\n",
    "plt.rcParams['font.family'] = ['Hei']\n",
    "plt.rcParams['font.sans-serif'] = ['Hei']\n",
    "plt.rcParams['axes.unicode_minus'] = False\n",
    "plt.plot(range(1, epochs//100 + 1), losses)\n",
    "plt.title('CBOW模型的损失函数')\n",
    "plt.xlabel('迭代次数')\n",
    "plt.ylabel('损失值')\n",
    "plt.show()"
   ]
  }
 ],
 "metadata": {
  "kernelspec": {
   "display_name": ".venv",
   "language": "python",
   "name": "python3"
  },
  "language_info": {
   "codemirror_mode": {
    "name": "ipython",
    "version": 3
   },
   "file_extension": ".py",
   "mimetype": "text/x-python",
   "name": "python",
   "nbconvert_exporter": "python",
   "pygments_lexer": "ipython3",
   "version": "3.9.6"
  }
 },
 "nbformat": 4,
 "nbformat_minor": 2
}
