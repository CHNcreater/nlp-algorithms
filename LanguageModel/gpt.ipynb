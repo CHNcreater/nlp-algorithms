{
 "cells": [
  {
   "cell_type": "code",
   "execution_count": 18,
   "metadata": {},
   "outputs": [],
   "source": [
    "import numpy as np\n",
    "import torch\n",
    "import torch.nn as nn\n",
    "d_k = 64\n",
    "d_v = 64\n",
    "\n",
    "class ScaledDotProductAttention(nn.Module):\n",
    "    def __init__(self):\n",
    "        super(ScaledDotProductAttention, self).__init__()\n",
    "    \n",
    "    def forward(self, Q, K, V, attention_mask):\n",
    "        #计算注意力得分\n",
    "        scores = torch.matmul(Q, K.transpose(-1, -2)/np.sqrt(d_k))\n",
    "        #注意力掩码，将attention_mask中值为1的位置替换为极小值\n",
    "        scores.masked_fill_(attention_mask, -1e9)\n",
    "        weights = nn.Softmax(dim=-1)(scores)\n",
    "        #根据注意力计算带关注度的上下文向量\n",
    "        context = torch.matmul(weights, V)\n",
    "        return context, weights"
   ]
  },
  {
   "cell_type": "code",
   "execution_count": 19,
   "metadata": {},
   "outputs": [
    {
     "name": "stdout",
     "output_type": "stream",
     "text": [
      "MultiHeadAttention(\n",
      "  (W_Q): Linear(in_features=512, out_features=512, bias=True)\n",
      "  (W_K): Linear(in_features=512, out_features=512, bias=True)\n",
      "  (W_V): Linear(in_features=512, out_features=512, bias=True)\n",
      "  (linear): Linear(in_features=512, out_features=512, bias=True)\n",
      "  (layer_norm): LayerNorm((512,), eps=1e-05, elementwise_affine=True)\n",
      ")\n"
     ]
    }
   ],
   "source": [
    "import torch.nn as nn\n",
    "#定义多头注意力\n",
    "d_embedding = 512\n",
    "n_heads = 8\n",
    "batch_size = 3\n",
    "class MultiHeadAttention(nn.Module):\n",
    "    def __init__(self):\n",
    "        super(MultiHeadAttention, self).__init__()\n",
    "        self.W_Q = nn.Linear(d_embedding, d_k*n_heads)\n",
    "        self.W_K = nn.Linear(d_embedding, d_k*n_heads)\n",
    "        self.W_V = nn.Linear(d_embedding, d_k*n_heads)\n",
    "        self.linear = nn.Linear(d_k*n_heads, d_embedding)\n",
    "        self.layer_norm = nn.LayerNorm(d_embedding)\n",
    "    \n",
    "    def forward(self, Q, K, V, attn_mask):\n",
    "        residual, batch_size = Q, Q.size(0)\n",
    "        q_s = self.W_Q(Q).view(batch_size, -1, n_heads, d_k).transpose(1, 2)\n",
    "        k_s = self.W_K(K).view(batch_size, -1, n_heads, d_k).transpose(1, 2)\n",
    "        v_s = self.W_V(V).view(batch_size, -1, n_heads, d_v).transpose(1, 2)\n",
    "        attn_mask = attn_mask.unsqueeze(1).repeat(1, n_heads, 1, 1)\n",
    "        context, weights = ScaledDotProductAttention()(q_s, k_s, v_s, attn_mask)\n",
    "        context = context.transpose(1, 2).contiguous().view(batch_size, -1, n_heads*d_v)\n",
    "        output = self.linear(context)\n",
    "        output = self.layer_norm(output + residual)\n",
    "        return output, weights\n",
    "\n",
    "print(MultiHeadAttention())"
   ]
  },
  {
   "cell_type": "code",
   "execution_count": 20,
   "metadata": {},
   "outputs": [],
   "source": [
    "class PoswiseFeedForwardNet(nn.Module):\n",
    "    def __init__(self, d_ff=2048):\n",
    "        super(PoswiseFeedForwardNet, self).__init__()\n",
    "        self.conv1 = nn.Conv1d(in_channels=d_embedding, out_channels=d_ff, kernel_size=1)\n",
    "        self.conv2 = nn.Conv1d(in_channels=d_ff, out_channels=d_embedding, kernel_size=1)\n",
    "        self.layer_norm = nn.LayerNorm(d_embedding)\n",
    "    \n",
    "    def forward(self, inputs):\n",
    "        residual = inputs\n",
    "        output = nn.ReLU()(self.conv1(inputs.transpose(1,2)))\n",
    "        output = self.conv2(output).transpose(1,2)\n",
    "        output = self.layer_norm(output + residual)\n",
    "        return output"
   ]
  },
  {
   "cell_type": "code",
   "execution_count": 21,
   "metadata": {},
   "outputs": [],
   "source": [
    "#定义填充注意力掩码函数\n",
    "def get_attn_pad_mask(seq_q, seq_k):\n",
    "    batch_size, len_q = seq_q.size()\n",
    "    batch_size, len_k = seq_k.size()\n",
    "    pad_attn_mask = seq_k.data.eq(0).unsqueeze(1)\n",
    "    pad_attn_mask = pad_attn_mask.expand(batch_size, len_q, len_k)\n",
    "    return pad_attn_mask\n",
    "\n",
    "#定义正弦位置编码函数，用于向Transfomer引入位置编码\n",
    "def get_sin_enc_table(n_position, embedding_dim):\n",
    "    sinusoid_table = np.zeros((n_position, embedding_dim))\n",
    "    for pos_i in range(n_position):\n",
    "        for hid_j in range(embedding_dim):\n",
    "            angle = pos_i / np.power(10000, 2*(hid_j // 2) / embedding_dim)\n",
    "            sinusoid_table[pos_i, hid_j]=angle\n",
    "    sinusoid_table[:, 0::2] = np.sin(sinusoid_table[:, 0::2])\n",
    "    sinusoid_table[:, 1::2] = np.cos(sinusoid_table[:, 1::2])\n",
    "    return torch.FloatTensor(sinusoid_table)\n",
    "\n",
    "def get_attn_subsequent_mask(seq):\n",
    "    attn_shape = [seq.size(0), seq.size(1), seq.size(1)]\n",
    "    subsequent_mask = np.triu(np.ones(attn_shape), k=1)\n",
    "    subsequent_mask = torch.from_numpy(subsequent_mask).byte()\n",
    "    return subsequent_mask.bool()"
   ]
  },
  {
   "cell_type": "code",
   "execution_count": 22,
   "metadata": {},
   "outputs": [],
   "source": [
    "import torch.nn as nn\n",
    "class DecoderLayer(nn.Module):\n",
    "    def __init__(self):\n",
    "        super(DecoderLayer, self).__init__()\n",
    "        self.self_attn = MultiHeadAttention()\n",
    "        self.feed_forward = PoswiseFeedForwardNet()\n",
    "        self.norm1 = nn.LayerNorm(d_embedding)\n",
    "        self.norm2 = nn.LayerNorm(d_embedding)\n",
    "\n",
    "    def forward(self, dec_inputs, attn_mask=None):\n",
    "        attn_output, _ = self.self_attn(dec_inputs, dec_inputs, dec_inputs, attn_mask)\n",
    "        norm1_outputs = self.norm1(dec_inputs + attn_output)\n",
    "        ff_outputs = self.feed_forward(norm1_outputs)\n",
    "        dec_outputs = self.norm2(norm1_outputs + ff_outputs)\n",
    "        return dec_outputs\n",
    "    "
   ]
  },
  {
   "cell_type": "code",
   "execution_count": 23,
   "metadata": {},
   "outputs": [],
   "source": [
    "n_layers = 6\n",
    "class Decoder(nn.Module):\n",
    "    def __init__(self, vocab_size, max_seq_len):\n",
    "        super(Decoder, self).__init__()\n",
    "        self.src_emb = nn.Embedding(vocab_size, d_embedding)\n",
    "        self.pos_emb = nn.Embedding(max_seq_len, d_embedding)\n",
    "        self.layers = nn.ModuleList([DecoderLayer() for _ in range(n_layers)])\n",
    "\n",
    "    def forward(self, dec_inputs):\n",
    "        positions = torch.arange(len(dec_inputs), device=dec_inputs.device).unsqueeze(-1)\n",
    "        inputs_embedding = self.src_emb(dec_inputs) + self.pos_emb(positions)\n",
    "        attn_amsk = get_attn_subsequent_mask(inputs_embedding).to(dec_inputs.device)\n",
    "        dec_outputs = inputs_embedding\n",
    "        for layer in self.layers:\n",
    "            dec_outputs = layer(dec_outputs, attn_amsk)\n",
    "        return dec_outputs\n"
   ]
  },
  {
   "cell_type": "code",
   "execution_count": 24,
   "metadata": {},
   "outputs": [],
   "source": [
    "\n",
    "class GPT(nn.Module):\n",
    "    def __init__(self, vocab_size, max_seq_len):\n",
    "        super(GPT, self).__init__()\n",
    "        self.decoder = Decoder(vocab_size, max_seq_len)\n",
    "        self.projection = nn.Linear(d_embedding, vocab_size)\n",
    "    \n",
    "    def forward(self, dec_inputs):\n",
    "        dec_outputs = self.decoder(dec_inputs)\n",
    "        logits = self.projection(dec_outputs)\n",
    "        return logits\n"
   ]
  },
  {
   "cell_type": "code",
   "execution_count": 25,
   "metadata": {},
   "outputs": [],
   "source": [
    "from collections import Counter\n",
    "import torch\n",
    "class LanguageCorpus:\n",
    "    def __init__(self, sentences):\n",
    "        self.sentences = sentences\n",
    "        self.seq_len = max([len(sentence.split()) for sentence in sentences]) + 2\n",
    "        self.vocab = self.create_vocabulary()\n",
    "        self.idx2word = {v: k for k, v in self.vocab.items()}\n",
    "\n",
    "    def create_vocabulary(self):\n",
    "        vocab = {'<pad>': 0, '<sos>': 1, '<eos>': 2}\n",
    "        counter = Counter()\n",
    "        for sentence in self.sentences:\n",
    "            words = sentence.split()\n",
    "            counter.update(words)\n",
    "        for word in counter:\n",
    "            if word not in vocab:\n",
    "                vocab[word] = len(vocab)\n",
    "        return vocab\n",
    "    def make_batch(self, batch_size, test_batch=False):\n",
    "        input_batch, output_batch = [], []\n",
    "        sentence_indices = torch.randperm(len(self.sentences))[:batch_size]\n",
    "        for index in sentence_indices:\n",
    "            sentence = self.sentences[index]\n",
    "            seq = [self.vocab['<sos>']] + [self.vocab[word] for word in sentence.split()] + [self.vocab['<eos>']]\n",
    "            seq += [self.vocab['<pad>']] * (self.seq_len - len(seq))\n",
    "            input_batch.append(seq[:-1])\n",
    "            output_batch.append(seq[1:])\n",
    "        return torch.LongTensor(input_batch), torch.LongTensor(output_batch)"
   ]
  },
  {
   "cell_type": "code",
   "execution_count": 26,
   "metadata": {},
   "outputs": [
    {
     "name": "stdout",
     "output_type": "stream",
     "text": [
      "语料词汇表大小：177\n",
      "最大句子长度：36\n"
     ]
    }
   ],
   "source": [
    "with open('.\\\\data\\\\lang.txt', 'r') as file:\n",
    "    sentences = [line.strip() for line in file.readlines()]\n",
    "corpus = LanguageCorpus(sentences)\n",
    "vocab_size = len(corpus.vocab)\n",
    "max_seq_len = corpus.seq_len\n",
    "print(f\"语料词汇表大小：{vocab_size}\")\n",
    "print(f\"最大句子长度：{max_seq_len}\")\n"
   ]
  },
  {
   "cell_type": "code",
   "execution_count": 27,
   "metadata": {},
   "outputs": [
    {
     "name": "stdout",
     "output_type": "stream",
     "text": [
      "Epoch: 0100 cost=0.596990\n",
      "Epoch: 0200 cost=0.171003\n",
      "Epoch: 0300 cost=0.101820\n",
      "Epoch: 0400 cost=0.081737\n",
      "Epoch: 0500 cost=0.090768\n"
     ]
    },
    {
     "data": {
      "image/png": "[encoded data removed]",
      "text/plain": [
       "<Figure size 640x480 with 1 Axes>"
      ]
     },
     "metadata": {},
     "output_type": "display_data"
    }
   ],
   "source": [
    "import torch.optim as optim\n",
    "device = \"cuda\" if torch.cuda.is_available() else \"cpu\"\n",
    "model = GPT(vocab_size, max_seq_len).to(device)\n",
    "criterion = nn.CrossEntropyLoss()\n",
    "optimizer = optim.Adam(model.parameters(), lr=0.0001)\n",
    "epochs = 500\n",
    "losses = []\n",
    "for epoch in range(epochs):\n",
    "    optimizer.zero_grad()\n",
    "    inputs, targets = corpus.make_batch(batch_size)\n",
    "    inputs, targets = inputs.to(device), targets.to(device)\n",
    "    outputs = model(inputs)\n",
    "    loss = criterion(outputs.view(-1, vocab_size), targets.view(-1))\n",
    "    if (epoch + 1) % 100 == 0:\n",
    "        print(f\"Epoch: {epoch + 1:04d} cost={loss:.6f}\")\n",
    "        losses.append(loss.item())\n",
    "    loss.backward()\n",
    "    optimizer.step()\n",
    "import matplotlib.pyplot as plt\n",
    "plt.rcParams['font.family'] = ['SimHei']\n",
    "plt.rcParams['font.sans-serif'] = ['SimHei']\n",
    "plt.rcParams['axes.unicode_minus'] = False\n",
    "plt.plot(range(1, 500//100 + 1), losses)\n",
    "plt.title('GPT模型的损失函数')\n",
    "plt.xlabel('迭代次数')\n",
    "plt.ylabel('损失值')\n",
    "plt.show()"
   ]
  },
  {
   "cell_type": "code",
   "execution_count": 33,
   "metadata": {},
   "outputs": [
    {
     "name": "stdout",
     "output_type": "stream",
     "text": [
      "生成的文本： Language models have shown impressive capabilities in the past few years by generating diverse and compelling text from human input prompts.\n"
     ]
    }
   ],
   "source": [
    "def generate_text(model, input_str, max_len=50):\n",
    "    model.eval()\n",
    "    input_tokens = [corpus.vocab[token] for token in input_str]\n",
    "    output_tokens = input_tokens.copy()\n",
    "    with torch.no_grad():\n",
    "        for _ in range(max_len):\n",
    "            inputs = torch.LongTensor(output_tokens).unsqueeze(0).to(device)\n",
    "            outputs = model(inputs)\n",
    "            _, next_token = torch.max(outputs[:, -1, :], dim=-1)\n",
    "            next_token = next_token.item()\n",
    "            if next_token == corpus.vocab['<eos>']:\n",
    "                break\n",
    "            output_tokens.append(next_token)\n",
    "        output_str = \" \".join([corpus.idx2word[token] for token in output_tokens])\n",
    "        return output_str\n",
    "input_str = [\"Language\", \"models\"]\n",
    "generated_text = generate_text(model, input_str)\n",
    "print(\"生成的文本：\", generated_text)"
   ]
  }
 ],
 "metadata": {
  "kernelspec": {
   "display_name": ".venv",
   "language": "python",
   "name": "python3"
  },
  "language_info": {
   "codemirror_mode": {
    "name": "ipython",
    "version": 3
   },
   "file_extension": ".py",
   "mimetype": "text/x-python",
   "name": "python",
   "nbconvert_exporter": "python",
   "pygments_lexer": "ipython3",
   "version": "3.13.2"
  }
 },
 "nbformat": 4,
 "nbformat_minor": 2
}
