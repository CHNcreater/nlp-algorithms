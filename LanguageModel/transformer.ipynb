{
 "cells": [
  {
   "cell_type": "code",
   "execution_count": 198,
   "metadata": {},
   "outputs": [],
   "source": [
    "import numpy as np\n",
    "import torch\n",
    "import torch.nn as nn\n",
    "d_k = 64\n",
    "d_v = 64\n",
    "\n",
    "class ScaledDotProductAttention(nn.Module):\n",
    "    def __init__(self):\n",
    "        super(ScaledDotProductAttention, self).__init__()\n",
    "    \n",
    "    def forward(self, Q, K, V, attention_mask):\n",
    "        #计算注意力得分\n",
    "        scores = torch.matmul(Q, K.transpose(-1, -2)/np.sqrt(d_k))\n",
    "        #注意力掩码，将attention_mask中值为1的位置替换为极小值\n",
    "        scores.masked_fill_(attention_mask, -1e9)\n",
    "        weights = nn.Softmax(dim=-1)(scores)\n",
    "        #根据注意力计算带关注度的上下文向量\n",
    "        context = torch.matmul(weights, V)\n",
    "        return context, weights\n"
   ]
  },
  {
   "cell_type": "code",
   "execution_count": 199,
   "metadata": {},
   "outputs": [
    {
     "name": "stdout",
     "output_type": "stream",
     "text": [
      "MultiHeadAttention(\n",
      "  (W_Q): Linear(in_features=512, out_features=512, bias=True)\n",
      "  (W_K): Linear(in_features=512, out_features=512, bias=True)\n",
      "  (W_V): Linear(in_features=512, out_features=512, bias=True)\n",
      "  (linear): Linear(in_features=512, out_features=512, bias=True)\n",
      "  (layer_norm): LayerNorm((512,), eps=1e-05, elementwise_affine=True)\n",
      ")\n"
     ]
    }
   ],
   "source": [
    "#定义多头注意力\n",
    "d_embedding = 512\n",
    "n_heads = 8\n",
    "batch_size = 3\n",
    "class MultiHeadAttention(nn.Module):\n",
    "    def __init__(self):\n",
    "        super(MultiHeadAttention, self).__init__()\n",
    "        self.W_Q = nn.Linear(d_embedding, d_k*n_heads)\n",
    "        self.W_K = nn.Linear(d_embedding, d_k*n_heads)\n",
    "        self.W_V = nn.Linear(d_embedding, d_k*n_heads)\n",
    "        self.linear = nn.Linear(d_k*n_heads, d_embedding)\n",
    "        self.layer_norm = nn.LayerNorm(d_embedding)\n",
    "    \n",
    "    def forward(self, Q, K, V, attn_mask):\n",
    "        residual, batch_size = Q, Q.size(0)\n",
    "        q_s = self.W_Q(Q).view(batch_size, -1, n_heads, d_k).transpose(1, 2)\n",
    "        k_s = self.W_K(K).view(batch_size, -1, n_heads, d_k).transpose(1, 2)\n",
    "        v_s = self.W_V(V).view(batch_size, -1, n_heads, d_v).transpose(1, 2)\n",
    "        attn_mask = attn_mask.unsqueeze(1).repeat(1, n_heads, 1, 1)\n",
    "        context, weights = ScaledDotProductAttention()(q_s, k_s, v_s, attn_mask)\n",
    "        context = context.transpose(1, 2).contiguous().view(batch_size, -1, n_heads*d_v)\n",
    "        output = self.linear(context)\n",
    "        output = self.layer_norm(output + residual)\n",
    "        return output, weights\n",
    "\n",
    "print(MultiHeadAttention())"
   ]
  },
  {
   "cell_type": "code",
   "execution_count": 200,
   "metadata": {},
   "outputs": [],
   "source": [
    "class PoswiseFeedForwardNet(nn.Module):\n",
    "    def __init__(self, d_ff=2048):\n",
    "        super(PoswiseFeedForwardNet, self).__init__()\n",
    "        self.conv1 = nn.Conv1d(in_channels=d_embedding, out_channels=d_ff, kernel_size=1)\n",
    "        self.conv2 = nn.Conv1d(in_channels=d_ff, out_channels=d_embedding, kernel_size=1)\n",
    "        self.layer_norm = nn.LayerNorm(d_embedding)\n",
    "    \n",
    "    def forward(self, inputs):\n",
    "        residual = inputs\n",
    "        output = nn.ReLU()(self.conv1(inputs.transpose(1,2)))\n",
    "        output = self.conv2(output).transpose(1,2)\n",
    "        output = self.layer_norm(output + residual)\n",
    "        return output\n",
    "    \n",
    "    \n"
   ]
  },
  {
   "cell_type": "code",
   "execution_count": 201,
   "metadata": {},
   "outputs": [],
   "source": [
    "#定义正弦位置编码函数，用于向Transfomer引入位置编码\n",
    "def get_sin_enc_table(n_position, embedding_dim):\n",
    "    sinusoid_table = np.zeros((n_position, embedding_dim))\n",
    "    for pos_i in range(n_position):\n",
    "        for hid_j in range(embedding_dim):\n",
    "            angle = pos_i / np.power(10000, 2*(hid_j // 2) / embedding_dim)\n",
    "            sinusoid_table[pos_i, hid_j]=angle\n",
    "    sinusoid_table[:, 0::2] = np.sin(sinusoid_table[:, 0::2])\n",
    "    sinusoid_table[:, 1::2] = np.cos(sinusoid_table[:, 1::2])\n",
    "    return torch.FloatTensor(sinusoid_table)"
   ]
  },
  {
   "cell_type": "code",
   "execution_count": 202,
   "metadata": {},
   "outputs": [],
   "source": [
    "#定义填充注意力掩码函数\n",
    "def get_attn_pad_mask(seq_q, seq_k):\n",
    "    batch_size, len_q = seq_q.size()\n",
    "    batch_size, len_k = seq_k.size()\n",
    "    pad_attn_mask = seq_k.data.eq(0).unsqueeze(1)\n",
    "    pad_attn_mask = pad_attn_mask.expand(batch_size, len_q, len_k)\n",
    "    return pad_attn_mask\n"
   ]
  },
  {
   "cell_type": "code",
   "execution_count": 203,
   "metadata": {},
   "outputs": [],
   "source": [
    "class EncoderLayer(nn.Module):\n",
    "    def __init__(self):\n",
    "        super(EncoderLayer, self).__init__()\n",
    "        self.enc_self_attn = MultiHeadAttention()\n",
    "        self.pos_ffn = PoswiseFeedForwardNet()\n",
    "\n",
    "    def forward(self, enc_inputs, enc_self_attn_mask):\n",
    "        enc_outpus, attn_weights = self.enc_self_attn(enc_inputs, enc_inputs, enc_inputs, enc_self_attn_mask)\n",
    "        enc_output = self.pos_ffn(enc_outpus)\n",
    "        return enc_outpus, attn_weights"
   ]
  },
  {
   "cell_type": "code",
   "execution_count": 204,
   "metadata": {},
   "outputs": [],
   "source": [
    "#定义编码器\n",
    "n_layers = 6\n",
    "class Encoder(nn.Module):\n",
    "    def __init__(self, corpus):\n",
    "        super(Encoder, self).__init__()\n",
    "        self.src_emb = nn.Embedding(len(corpus.src_vocab), d_embedding)\n",
    "        self.pos_emb = nn.Embedding.from_pretrained(get_sin_enc_table(corpus.src_len+1, d_embedding), freeze=True)\n",
    "        self.layers = nn.ModuleList(EncoderLayer() for _ in range(n_layers))\n",
    "\n",
    "    def forward(self, enc_inputs):\n",
    "        pos_indices = torch.arange(1, enc_inputs.size(1) + 1).unsqueeze(0).to(enc_inputs)\n",
    "        enc_outputs = self.src_emb(enc_inputs) + self.pos_emb(pos_indices)\n",
    "        enc_self_attn_mask = get_attn_pad_mask(enc_inputs, enc_inputs)\n",
    "        enc_self_attn_weights = []\n",
    "        for layer in self.layers:\n",
    "            enc_outputs, enc_self_attn_weight = layer(enc_outputs, enc_self_attn_mask)\n",
    "            enc_self_attn_weights.append(enc_self_attn_weight)\n",
    "        return enc_outputs, enc_self_attn_weights\n",
    "    \n",
    "\n"
   ]
  },
  {
   "cell_type": "code",
   "execution_count": 205,
   "metadata": {},
   "outputs": [],
   "source": [
    "def get_attn_subsequent_mask(seq):\n",
    "    attn_shape = [seq.size(0), seq.size(1), seq.size(1)]\n",
    "    subsequent_mask = np.triu(np.ones(attn_shape), k=1)\n",
    "    subsequent_mask = torch.from_numpy(subsequent_mask).byte()\n",
    "    return subsequent_mask\n"
   ]
  },
  {
   "cell_type": "code",
   "execution_count": 206,
   "metadata": {},
   "outputs": [],
   "source": [
    "class DecoderLayer(nn.Module):\n",
    "    def __init__(self):\n",
    "        super(DecoderLayer, self).__init__()\n",
    "        self.dec_self_attn = MultiHeadAttention()\n",
    "        self.dec_enc_attn = MultiHeadAttention()\n",
    "        self.pos_ffn = PoswiseFeedForwardNet()\n",
    "\n",
    "    def forward(self, dec_inputs, enc_outputs, dec_self_attn_mask, dec_enc_attn_mask):\n",
    "        dec_outputs, dec_self_attn = self.dec_self_attn(dec_inputs, dec_inputs, dec_inputs, dec_self_attn_mask)\n",
    "        dec_outputs, dec_enc_attn = self.dec_enc_attn(dec_outputs, enc_outputs, enc_outputs, dec_enc_attn_mask)\n",
    "        dec_outputs = self.pos_ffn(dec_outputs)\n",
    "        return dec_outputs, dec_self_attn, dec_enc_attn\n",
    "    "
   ]
  },
  {
   "cell_type": "code",
   "execution_count": 207,
   "metadata": {},
   "outputs": [],
   "source": [
    "#定义解码器\n",
    "n_layers = 6\n",
    "class Decoder(nn.Module):\n",
    "    def __init__(self, corpus):\n",
    "        super(Decoder, self).__init__()\n",
    "        self.tgt_emb = nn.Embedding(len(corpus.tgt_vocab), d_embedding)\n",
    "        self.pos_emb = nn.Embedding.from_pretrained(get_sin_enc_table(corpus.tgt_len+1, d_embedding), freeze=True)\n",
    "        self.layers = nn.ModuleList(DecoderLayer() for _ in range(n_layers))\n",
    "\n",
    "    def forward(self, dec_inputs, enc_inputs, enc_outputs):\n",
    "        pos_indices = torch.arange(1, dec_inputs.size(1) + 1).unsqueeze(0).to(dec_inputs)\n",
    "        dec_outputs = self.tgt_emb(dec_inputs) + self.pos_emb(pos_indices)\n",
    "        dec_self_attn_pad_mask = get_attn_pad_mask(dec_inputs, dec_inputs)\n",
    "        dec_self_attn_subsequent_mask = get_attn_subsequent_mask(dec_inputs)\n",
    "        dec_self_attn_mask = torch.gt((dec_self_attn_pad_mask + dec_self_attn_subsequent_mask), 0)\n",
    "        dec_enc_attn_mask = get_attn_pad_mask(dec_inputs, enc_inputs)\n",
    "        dec_self_attns, dec_enc_attns = [], []\n",
    "        for layers in self.layers:\n",
    "            dec_outputs, dec_self_attn, dec_enc_attn = layers(dec_outputs, enc_outputs, dec_self_attn_mask, dec_enc_attn_mask)\n",
    "            dec_self_attns.append(dec_self_attn)\n",
    "            dec_enc_attns.append(dec_enc_attn)\n",
    "        return dec_outputs, dec_self_attns, dec_enc_attns"
   ]
  },
  {
   "cell_type": "code",
   "execution_count": 208,
   "metadata": {},
   "outputs": [],
   "source": [
    "class Transformer(nn.Module):\n",
    "    def __init__(self, corpus):\n",
    "        super(Transformer, self).__init__()\n",
    "        self.encoder = Encoder(corpus)\n",
    "        self.decoder = Decoder(corpus)\n",
    "        self.projection = nn.Linear(d_embedding, len(corpus.tgt_vocab), bias=False)\n",
    "\n",
    "    def forward(self, enc_inputs, dec_inputs):\n",
    "        enc_outputs, enc_self_attns = self.encoder(enc_inputs)\n",
    "        dec_outputs, dec_self_attns, dec_enc_attns = self.decoder(dec_inputs, enc_inputs, enc_outputs)\n",
    "        dec_logits = self.projection(dec_outputs)\n",
    "        return dec_logits, enc_self_attns, dec_self_attns, dec_enc_attns"
   ]
  },
  {
   "cell_type": "code",
   "execution_count": 209,
   "metadata": {},
   "outputs": [],
   "source": [
    "sentences = [['项羽 爱 虞姬', 'Xiangyu loves Yuji'],\n",
    "             ['我 爱 学习 人工智能', 'I love studying AI'],\n",
    "             ['深度学习 改变 世界', 'DL changed the world'],\n",
    "             ['自然语言处理 很 强大', 'NLP is so powerful'],\n",
    "             ['神经网络 非常 复杂', 'Neural-Nets are complex']]\n",
    "\n",
    "from collections import Counter\n",
    "class TranslationCorpus:\n",
    "    def __init__(self, sentences):\n",
    "        self.sentences = sentences\n",
    "        self.src_len = max(len(sentence[0].split()) for sentence in sentences) + 1\n",
    "        self.tgt_len = max(len(sentence[1].split()) for sentence in sentences) + 2\n",
    "        self.src_vocab, self.tgt_vocab = self.create_vocabularies()\n",
    "        self.src_idx2word = {v: k for k, v in self.src_vocab.items()}\n",
    "        self.tgt_idx2word = {v: k for k, v in self.tgt_vocab.items()}\n",
    "\n",
    "    def create_vocabularies(self):\n",
    "        src_counter = Counter(word for sentence in self.sentences for word in sentence[0].split())\n",
    "        tgt_counter = Counter(word for sentence in self.sentences for word in sentence[1].split())\n",
    "        src_vocab = {'<pad>': 0, **{word: i+1 for i, word in enumerate(src_counter)}}\n",
    "        tgt_vocab = {'<pad>': 0, '<sos>': 1, '<eos>': 2, **{word: i+3 for i, word in enumerate(tgt_counter)}}\n",
    "        return src_vocab, tgt_vocab\n",
    "\n",
    "    def make_batch(self, batch_size, test_batch=False):\n",
    "        input_batch, output_batch, target_batch = [], [], []\n",
    "        sentence_indices = torch.randperm(len(self.sentences))[:batch_size]\n",
    "        for index in sentence_indices:\n",
    "            src_sentence, tgt_sentence = self.sentences[index]\n",
    "            src_seq = [self.src_vocab[word] for word in src_sentence.split()]\n",
    "            tgt_seq = [self.tgt_vocab['<sos>']] + [self.tgt_vocab[word] for word in tgt_sentence.split()] + [self.tgt_vocab['<eos>']]\n",
    "            src_seq += [self.src_vocab['<pad>']]*(self.src_len - len(src_seq))\n",
    "            tgt_seq += [self.tgt_vocab['<pad>']]*(self.tgt_len - len(tgt_seq))\n",
    "            input_batch.append(src_seq)\n",
    "            output_batch.append([self.tgt_vocab['<sos>']] + ([self.tgt_vocab['<pad>']]*(self.tgt_len - 2)) if test_batch else tgt_seq[:-1])\n",
    "            target_batch.append(tgt_seq[1:])\n",
    "            \n",
    "        input_batch = torch.LongTensor(input_batch)\n",
    "        output_batch = torch.LongTensor(output_batch)\n",
    "        target_batch = torch.LongTensor(target_batch)\n",
    "        return input_batch, output_batch, target_batch\n",
    "\n",
    "corpus = TranslationCorpus(sentences)"
   ]
  },
  {
   "cell_type": "code",
   "execution_count": 210,
   "metadata": {},
   "outputs": [
    {
     "name": "stdout",
     "output_type": "stream",
     "text": [
      "Epoch: 0001, cost=3.252170\n",
      "Epoch: 0002, cost=3.095895\n",
      "Epoch: 0003, cost=1.691392\n",
      "Epoch: 0004, cost=0.821740\n",
      "Epoch: 0005, cost=1.270819\n"
     ]
    },
    {
     "data": {
      "image/png": "[encoded data removed]",
      "text/plain": [
       "<Figure size 640x480 with 1 Axes>"
      ]
     },
     "metadata": {},
     "output_type": "display_data"
    }
   ],
   "source": [
    "import torch\n",
    "import torch.optim as optim\n",
    "model = Transformer(corpus)\n",
    "criterion = nn.CrossEntropyLoss()\n",
    "optimizer = optim.Adam(model.parameters(), lr=0.0001)\n",
    "epochs = 5\n",
    "losses = []\n",
    "for epoch in range(epochs):\n",
    "    optimizer.zero_grad()\n",
    "    enc_inputs, dec_inputs, target_batch = corpus.make_batch(batch_size)\n",
    "    outputs, _, _, _ = model(enc_inputs, dec_inputs)\n",
    "    loss = criterion(outputs.view(-1, len(corpus.tgt_vocab)), target_batch.view(-1))\n",
    "    if (epoch+1)%1 == 0:\n",
    "        print(f'Epoch: {epoch+1:04d}, cost={loss:.6f}')\n",
    "        losses.append(loss.item())\n",
    "    loss.backward()\n",
    "    optimizer.step()\n",
    "\n",
    "import matplotlib.pyplot as plt\n",
    "plt.rcParams['font.family'] = ['SimHei']\n",
    "plt.rcParams['font.sans-serif'] = ['SimHei']\n",
    "plt.rcParams['axes.unicode_minus'] = False\n",
    "plt.plot(range(1, 6), losses)\n",
    "plt.title('Transformer模型的损失函数')\n",
    "plt.xlabel('迭代次数')\n",
    "plt.ylabel('损失值')\n",
    "plt.show()"
   ]
  },
  {
   "cell_type": "code",
   "execution_count": 212,
   "metadata": {},
   "outputs": [
    {
     "name": "stdout",
     "output_type": "stream",
     "text": [
      "tensor([[3],\n",
      "        [3],\n",
      "        [3],\n",
      "        [3],\n",
      "        [3]])\n",
      "项羽爱虞姬<pad><pad> -> ['Xiangyu', 'Xiangyu', 'Xiangyu', 'Xiangyu', 'Xiangyu']\n"
     ]
    }
   ],
   "source": [
    "enc_inputs, dec_inputs, target_batch = corpus.make_batch(batch_size=1, test_batch=True)\n",
    "predict, enc_self_attn, dec_self_attn, dec_enc_attn = model(enc_inputs, dec_inputs)\n",
    "predict = predict.view(-1, len(corpus.tgt_vocab))\n",
    "predict = predict.data.max(1, keepdim=True)[1]\n",
    "print(predict)\n",
    "translated_sentence = [corpus.tgt_idx2word[idx.item()] for idx in predict.squeeze()]\n",
    "input_sentence = ''.join([corpus.src_idx2word[idx.item()] for idx in enc_inputs[0]])\n",
    "print(input_sentence, '->', translated_sentence)"
   ]
  },
  {
   "cell_type": "code",
   "execution_count": 216,
   "metadata": {},
   "outputs": [],
   "source": [
    "def greedy_decoder(model, enc_inputs, start_symbol):\n",
    "    enc_outputs, enc_self_attn = model.encoder(enc_inputs)\n",
    "    dec_input = torch.zeros(1, 5).type_as(enc_inputs.data)\n",
    "    next_symbol = start_symbol\n",
    "    for i in range(0,5):\n",
    "        dec_input[0][i] = next_symbol\n",
    "        dec_output, _, _ = model.decoder(dec_input, enc_inputs, enc_outputs)\n",
    "        projected = model.projection(dec_output)\n",
    "        prob = projected.squeeze(0).max(dim=-1, keepdim=False)[1]\n",
    "        next_word = prob.data[i]\n",
    "        next_symbol = next_word.item()\n",
    "    dec_outputs = dec_input\n",
    "    return dec_outputs"
   ]
  },
  {
   "cell_type": "code",
   "execution_count": 217,
   "metadata": {},
   "outputs": [
    {
     "name": "stdout",
     "output_type": "stream",
     "text": [
      "['深度学习', '改变', '世界', '<pad>', '<pad>'] -> ['<sos>', 'DL', 'changed', 'the', 'world']\n"
     ]
    }
   ],
   "source": [
    "enc_inputs, dec_inputs, target_batch = corpus.make_batch(batch_size=1, test_batch=True)\n",
    "greedy_dec_input = greedy_decoder(model, enc_inputs, start_symbol=corpus.tgt_vocab['<sos>'])\n",
    "greedy_dec_output_words = [corpus.tgt_idx2word[n.item()] for n in greedy_dec_input.squeeze()]\n",
    "enc_inputs_words = [corpus.src_idx2word[code.item()] for code in enc_inputs[0]]\n",
    "print(enc_inputs_words, '->', greedy_dec_output_words)"
   ]
  }
 ],
 "metadata": {
  "kernelspec": {
   "display_name": ".venv",
   "language": "python",
   "name": "python3"
  },
  "language_info": {
   "codemirror_mode": {
    "name": "ipython",
    "version": 3
   },
   "file_extension": ".py",
   "mimetype": "text/x-python",
   "name": "python",
   "nbconvert_exporter": "python",
   "pygments_lexer": "ipython3",
   "version": "3.13.2"
  }
 },
 "nbformat": 4,
 "nbformat_minor": 2
}
