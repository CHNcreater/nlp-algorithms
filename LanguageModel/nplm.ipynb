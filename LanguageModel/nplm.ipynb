{
 "cells": [
  {
   "cell_type": "code",
   "execution_count": 11,
   "metadata": {},
   "outputs": [
    {
     "name": "stdout",
     "output_type": "stream",
     "text": [
      "词汇表： ['爱', '讨厌', '爸爸', '我', '玩具', '挨打', '喜欢']\n",
      "词汇到索引的字典 {'爱': 0, '讨厌': 1, '爸爸': 2, '我': 3, '玩具': 4, '挨打': 5, '喜欢': 6}\n",
      "索引到词汇的字典 {0: '爱', 1: '讨厌', 2: '爸爸', 3: '我', 4: '玩具', 5: '挨打', 6: '喜欢'}\n",
      "词汇表大小： 7\n"
     ]
    }
   ],
   "source": [
    "sentences = [\"我 喜欢 玩具\",\n",
    "             \"我 爱 爸爸\",\n",
    "             \"我 讨厌 挨打\"]\n",
    "\n",
    "words_list = list(set(\" \".join(sentences).split()))\n",
    "word_to_idx = {word: idx for idx, word in enumerate(words_list)}\n",
    "idx_to_word = {idx: word for idx, word in enumerate(words_list)}\n",
    "voc_size = len(words_list)\n",
    "print(\"词汇表：\", words_list)\n",
    "print(\"词汇到索引的字典\", word_to_idx)\n",
    "print(\"索引到词汇的字典\", idx_to_word)\n",
    "print(\"词汇表大小：\", voc_size)\n"
   ]
  },
  {
   "cell_type": "code",
   "execution_count": 13,
   "metadata": {},
   "outputs": [
    {
     "name": "stdout",
     "output_type": "stream",
     "text": [
      "input_batch: tensor([[3, 1],\n",
      "        [3, 0]])\n",
      "target_batch: tensor([5, 2])\n",
      "input_words: [<generator object <genexpr> at 0x10d9a2c10>, <generator object <genexpr> at 0x12ebe9c80>]\n",
      "target_batch: tensor([5, 2])\n",
      "target_words: ['挨打', '爸爸']\n"
     ]
    }
   ],
   "source": [
    "import torch\n",
    "import random\n",
    "batch_size = 2\n",
    "def make_batch():\n",
    "    input_batch = []\n",
    "    target_batch = []\n",
    "    selected_sentences = random.sample(sentences, batch_size)\n",
    "    for sentence in selected_sentences:\n",
    "        words = sentence.split()\n",
    "        input_data = [word_to_idx[word] for word in words[:-1]]\n",
    "        target = word_to_idx[words[-1]]\n",
    "        input_batch.append(input_data)\n",
    "        target_batch.append(target)\n",
    "    return torch.LongTensor(input_batch), torch.LongTensor(target_batch)\n",
    "\n",
    "input_batch, target_batch = make_batch()\n",
    "print(\"input_batch:\", input_batch)\n",
    "print(\"target_batch:\", target_batch)\n",
    "input_words = []\n",
    "for input_idx in input_batch:\n",
    "    input_words.append(idx_to_word[idx.item()] for idx in input_idx)\n",
    "print(\"input_words:\", input_words)\n",
    "print(\"target_batch:\", target_batch)\n",
    "target_words = [idx_to_word[idx.item()] for idx in target_batch]\n",
    "print(\"target_words:\", target_words)"
   ]
  },
  {
   "cell_type": "code",
   "execution_count": 15,
   "metadata": {},
   "outputs": [
    {
     "name": "stdout",
     "output_type": "stream",
     "text": [
      "NPLM(\n",
      "  (C): Embedding(7, 2)\n",
      "  (linear1): Linear(in_features=4, out_features=2, bias=True)\n",
      "  (linear2): Linear(in_features=2, out_features=7, bias=True)\n",
      ")\n"
     ]
    }
   ],
   "source": [
    "import torch.nn as nn\n",
    "class NPLM(nn.Module):\n",
    "    def __init__(self, embedding_size, n_steps, n_hidden):\n",
    "        super(NPLM, self).__init__()\n",
    "        self.C = nn.Embedding(voc_size, embedding_size)\n",
    "        self.linear1 = nn.Linear(n_steps * embedding_size, n_hidden)\n",
    "        self.linear2 = nn.Linear(n_hidden, voc_size)\n",
    "        self.embedding_size = embedding_size\n",
    "        self.n_steps = n_steps\n",
    "    def forward(self, x):\n",
    "        x = self.C(x)\n",
    "        x = x.view(-1, self.n_steps * self.embedding_size)\n",
    "        hidden = torch.tanh(self.linear1(x))\n",
    "        output = self.linear2(hidden)\n",
    "        return output\n",
    "    \n",
    "model = NPLM(2, 2, 2)\n",
    "print(model)"
   ]
  },
  {
   "cell_type": "code",
   "execution_count": 18,
   "metadata": {},
   "outputs": [
    {
     "name": "stdout",
     "output_type": "stream",
     "text": [
      "Epoch: 0100 cost = 0.286794\n",
      "Epoch: 0200 cost = 0.203377\n",
      "Epoch: 0300 cost = 0.180875\n",
      "Epoch: 0400 cost = 0.097134\n",
      "Epoch: 0500 cost = 0.087334\n",
      "Epoch: 0600 cost = 0.077545\n",
      "Epoch: 0700 cost = 0.070148\n",
      "Epoch: 0800 cost = 0.104724\n",
      "Epoch: 0900 cost = 0.057973\n",
      "Epoch: 1000 cost = 0.086309\n",
      "Epoch: 1100 cost = 0.048018\n",
      "Epoch: 1200 cost = 0.071688\n",
      "Epoch: 1300 cost = 0.066500\n",
      "Epoch: 1400 cost = 0.037771\n",
      "Epoch: 1500 cost = 0.054242\n",
      "Epoch: 1600 cost = 0.052119\n",
      "Epoch: 1700 cost = 0.045628\n",
      "Epoch: 1800 cost = 0.042307\n",
      "Epoch: 1900 cost = 0.042079\n",
      "Epoch: 2000 cost = 0.038982\n",
      "Epoch: 2100 cost = 0.036357\n",
      "Epoch: 2200 cost = 0.033973\n",
      "Epoch: 2300 cost = 0.029266\n",
      "Epoch: 2400 cost = 0.018495\n",
      "Epoch: 2500 cost = 0.025575\n",
      "Epoch: 2600 cost = 0.016514\n",
      "Epoch: 2700 cost = 0.015497\n",
      "Epoch: 2800 cost = 0.023063\n",
      "Epoch: 2900 cost = 0.013941\n",
      "Epoch: 3000 cost = 0.020130\n",
      "Epoch: 3100 cost = 0.012358\n",
      "Epoch: 3200 cost = 0.016124\n",
      "Epoch: 3300 cost = 0.015110\n",
      "Epoch: 3400 cost = 0.016146\n",
      "Epoch: 3500 cost = 0.015206\n",
      "Epoch: 3600 cost = 0.014306\n",
      "Epoch: 3700 cost = 0.008852\n",
      "Epoch: 3800 cost = 0.008411\n",
      "Epoch: 3900 cost = 0.010299\n",
      "Epoch: 4000 cost = 0.011384\n",
      "Epoch: 4100 cost = 0.009116\n",
      "Epoch: 4200 cost = 0.010253\n",
      "Epoch: 4300 cost = 0.008150\n",
      "Epoch: 4400 cost = 0.006167\n",
      "Epoch: 4500 cost = 0.008714\n",
      "Epoch: 4600 cost = 0.008240\n",
      "Epoch: 4700 cost = 0.005167\n",
      "Epoch: 4800 cost = 0.006283\n",
      "Epoch: 4900 cost = 0.007046\n",
      "Epoch: 5000 cost = 0.005634\n"
     ]
    },
    {
     "data": {
      "image/png": "[encoded data removed]",
      "text/plain": [
       "<Figure size 640x480 with 1 Axes>"
      ]
     },
     "metadata": {},
     "output_type": "display_data"
    }
   ],
   "source": [
    "import torch.optim as optim\n",
    "criterion = nn.CrossEntropyLoss()\n",
    "optimizer = optim.Adam(model.parameters(), lr=0.001)\n",
    "losses = []\n",
    "for epoch in range(5000):\n",
    "    input_batch, target_batch = make_batch()\n",
    "    optimizer.zero_grad()\n",
    "    output = model(input_batch)\n",
    "    loss = criterion(output, target_batch)\n",
    "    if (epoch + 1) % 100 == 0:\n",
    "        print(\"Epoch:\", \"%04d\" % (epoch + 1), \"cost =\", \"{:.6f}\".format(loss.item()))\n",
    "        losses.append(loss.item()/batch_size)\n",
    "    loss.backward()\n",
    "    optimizer.step()\n",
    "\n",
    "import matplotlib.pyplot as plt\n",
    "plt.rcParams['font.family'] = ['Hei']\n",
    "plt.rcParams['font.sans-serif'] = ['Hei']\n",
    "plt.rcParams['axes.unicode_minus'] = False\n",
    "plt.plot(range(1, 5000//100 + 1), losses)\n",
    "plt.title('NPLM模型的损失函数')\n",
    "plt.xlabel('迭代次数')\n",
    "plt.ylabel('损失值')\n",
    "plt.show()"
   ]
  },
  {
   "cell_type": "code",
   "execution_count": 19,
   "metadata": {},
   "outputs": [
    {
     "name": "stdout",
     "output_type": "stream",
     "text": [
      "input_strs: [['我', '讨厌'], ['我', '喜欢']]\n",
      "predict: tensor([[5],\n",
      "        [4]])\n",
      "predict_words: ['挨打', '玩具']\n"
     ]
    }
   ],
   "source": [
    "input_strs = [['我', '讨厌'],['我', '喜欢']]\n",
    "input_indices = [[word_to_idx[word] for word in input_str] for input_str in input_strs]\n",
    "input_batch = torch.LongTensor(input_indices)\n",
    "predict = model(input_batch)\n",
    "predict = predict.data.max(1, keepdim=True)[1]\n",
    "print(\"input_strs:\", input_strs)\n",
    "print(\"predict:\", predict)\n",
    "predict_words = []\n",
    "for idx in predict:\n",
    "    predict_words.append(idx_to_word[idx.item()])\n",
    "print(\"predict_words:\", predict_words)"
   ]
  }
 ],
 "metadata": {
  "kernelspec": {
   "display_name": ".venv",
   "language": "python",
   "name": "python3"
  },
  "language_info": {
   "codemirror_mode": {
    "name": "ipython",
    "version": 3
   },
   "file_extension": ".py",
   "mimetype": "text/x-python",
   "name": "python",
   "nbconvert_exporter": "python",
   "pygments_lexer": "ipython3",
   "version": "3.9.6"
  }
 },
 "nbformat": 4,
 "nbformat_minor": 2
}
